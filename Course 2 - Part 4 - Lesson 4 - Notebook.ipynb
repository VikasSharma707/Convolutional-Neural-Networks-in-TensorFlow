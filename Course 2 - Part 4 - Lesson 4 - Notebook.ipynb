{
  "nbformat": 4,
  "nbformat_minor": 0,
  "metadata": {
    "accelerator": "GPU",
    "colab": {
      "name": "Course 2 - Part 4 - Lesson 4 - Notebook.ipynb",
      "provenance": [],
      "collapsed_sections": [],
      "toc_visible": true,
      "include_colab_link": true
    },
    "kernelspec": {
      "display_name": "Python 3",
      "name": "python3"
    }
  },
  "cells": [
    {
      "cell_type": "markdown",
      "metadata": {
        "id": "view-in-github",
        "colab_type": "text"
      },
      "source": [
        "<a href=\"https://colab.research.google.com/github/sharmacoder707/Convolutional-Neural-Networks-in-TensorFlow/blob/main/Course%202%20-%20Part%204%20-%20Lesson%204%20-%20Notebook.ipynb\" target=\"_parent\"><img src=\"https://colab.research.google.com/assets/colab-badge.svg\" alt=\"Open In Colab\"/></a>"
      ]
    },
    {
      "cell_type": "markdown",
      "metadata": {
        "id": "rX8mhOLljYeM"
      },
      "source": [
        "##### Copyright 2019 The TensorFlow Authors."
      ]
    },
    {
      "cell_type": "code",
      "metadata": {
        "cellView": "form",
        "id": "BZSlp3DAjdYf"
      },
      "source": [
        "#@title Licensed under the Apache License, Version 2.0 (the \"License\");\n",
        "# you may not use this file except in compliance with the License.\n",
        "# You may obtain a copy of the License at\n",
        "#\n",
        "# https://www.apache.org/licenses/LICENSE-2.0\n",
        "#\n",
        "# Unless required by applicable law or agreed to in writing, software\n",
        "# distributed under the License is distributed on an \"AS IS\" BASIS,\n",
        "# WITHOUT WARRANTIES OR CONDITIONS OF ANY KIND, either express or implied.\n",
        "# See the License for the specific language governing permissions and\n",
        "# limitations under the License."
      ],
      "execution_count": null,
      "outputs": []
    },
    {
      "cell_type": "code",
      "metadata": {
        "colab": {
          "base_uri": "https://localhost:8080/"
        },
        "id": "RXZT2UsyIVe_",
        "outputId": "9784829c-9171-4487-d127-b5a7e769f7f5"
      },
      "source": [
        "!wget --no-check-certificate \\\n",
        "    https://storage.googleapis.com/laurencemoroney-blog.appspot.com/horse-or-human.zip \\\n",
        "    -O /tmp/horse-or-human.zip\n",
        "\n",
        "!wget --no-check-certificate \\\n",
        "    https://storage.googleapis.com/laurencemoroney-blog.appspot.com/validation-horse-or-human.zip \\\n",
        "    -O /tmp/validation-horse-or-human.zip\n",
        "  \n",
        "import os\n",
        "import zipfile\n",
        "\n",
        "local_zip = '/tmp/horse-or-human.zip'\n",
        "zip_ref = zipfile.ZipFile(local_zip, 'r')\n",
        "zip_ref.extractall('/tmp/horse-or-human')\n",
        "local_zip = '/tmp/validation-horse-or-human.zip'\n",
        "zip_ref = zipfile.ZipFile(local_zip, 'r')\n",
        "zip_ref.extractall('/tmp/validation-horse-or-human')\n",
        "zip_ref.close()\n",
        "# Directory with our training horse pictures\n",
        "train_horse_dir = os.path.join('/tmp/horse-or-human/horses')\n",
        "\n",
        "# Directory with our training human pictures\n",
        "train_human_dir = os.path.join('/tmp/horse-or-human/humans')\n",
        "\n",
        "# Directory with our training horse pictures\n",
        "validation_horse_dir = os.path.join('/tmp/validation-horse-or-human/horses')\n",
        "\n",
        "# Directory with our training human pictures\n",
        "validation_human_dir = os.path.join('/tmp/validation-horse-or-human/humans')"
      ],
      "execution_count": 1,
      "outputs": [
        {
          "output_type": "stream",
          "text": [
            "--2021-07-04 09:49:33--  https://storage.googleapis.com/laurencemoroney-blog.appspot.com/horse-or-human.zip\n",
            "Resolving storage.googleapis.com (storage.googleapis.com)... 142.251.2.128, 142.250.141.128, 74.125.137.128, ...\n",
            "Connecting to storage.googleapis.com (storage.googleapis.com)|142.251.2.128|:443... connected.\n",
            "HTTP request sent, awaiting response... 200 OK\n",
            "Length: 149574867 (143M) [application/zip]\n",
            "Saving to: ‘/tmp/horse-or-human.zip’\n",
            "\n",
            "/tmp/horse-or-human 100%[===================>] 142.65M   130MB/s    in 1.1s    \n",
            "\n",
            "2021-07-04 09:49:34 (130 MB/s) - ‘/tmp/horse-or-human.zip’ saved [149574867/149574867]\n",
            "\n",
            "--2021-07-04 09:49:34--  https://storage.googleapis.com/laurencemoroney-blog.appspot.com/validation-horse-or-human.zip\n",
            "Resolving storage.googleapis.com (storage.googleapis.com)... 142.250.101.128, 142.251.2.128, 142.250.141.128, ...\n",
            "Connecting to storage.googleapis.com (storage.googleapis.com)|142.250.101.128|:443... connected.\n",
            "HTTP request sent, awaiting response... 200 OK\n",
            "Length: 11480187 (11M) [application/zip]\n",
            "Saving to: ‘/tmp/validation-horse-or-human.zip’\n",
            "\n",
            "/tmp/validation-hor 100%[===================>]  10.95M  15.7MB/s    in 0.7s    \n",
            "\n",
            "2021-07-04 09:49:35 (15.7 MB/s) - ‘/tmp/validation-horse-or-human.zip’ saved [11480187/11480187]\n",
            "\n"
          ],
          "name": "stdout"
        }
      ]
    },
    {
      "cell_type": "markdown",
      "metadata": {
        "id": "5oqBkNBJmtUv"
      },
      "source": [
        "## Building a Small Model from Scratch\n",
        "\n",
        "But before we continue, let's start defining the model:\n",
        "\n",
        "Step 1 will be to import tensorflow."
      ]
    },
    {
      "cell_type": "code",
      "metadata": {
        "id": "qvfZg3LQbD-5"
      },
      "source": [
        "import tensorflow as tf"
      ],
      "execution_count": 2,
      "outputs": []
    },
    {
      "cell_type": "markdown",
      "metadata": {
        "id": "BnhYCP4tdqjC"
      },
      "source": [
        "We then add convolutional layers as in the previous example, and flatten the final result to feed into the densely connected layers."
      ]
    },
    {
      "cell_type": "markdown",
      "metadata": {
        "id": "gokG5HKpdtzm"
      },
      "source": [
        "Finally we add the densely connected layers. \n",
        "\n",
        "Note that because we are facing a two-class classification problem, i.e. a *binary classification problem*, we will end our network with a [*sigmoid* activation](https://wikipedia.org/wiki/Sigmoid_function), so that the output of our network will be a single scalar between 0 and 1, encoding the probability that the current image is class 1 (as opposed to class 0)."
      ]
    },
    {
      "cell_type": "code",
      "metadata": {
        "id": "PixZ2s5QbYQ3"
      },
      "source": [
        "model = tf.keras.models.Sequential([\n",
        "    # Note the input shape is the desired size of the image 300x300 with 3 bytes color\n",
        "    # This is the first convolution\n",
        "    tf.keras.layers.Conv2D(16, (3,3), activation='relu', input_shape=(300, 300, 3)),\n",
        "    tf.keras.layers.MaxPooling2D(2, 2),\n",
        "    # The second convolution\n",
        "    tf.keras.layers.Conv2D(32, (3,3), activation='relu'),\n",
        "    tf.keras.layers.MaxPooling2D(2,2),\n",
        "    # The third convolution\n",
        "    tf.keras.layers.Conv2D(64, (3,3), activation='relu'),\n",
        "    tf.keras.layers.MaxPooling2D(2,2),\n",
        "    # The fourth convolution\n",
        "    tf.keras.layers.Conv2D(64, (3,3), activation='relu'),\n",
        "    tf.keras.layers.MaxPooling2D(2,2),\n",
        "    # The fifth convolution\n",
        "    tf.keras.layers.Conv2D(64, (3,3), activation='relu'),\n",
        "    tf.keras.layers.MaxPooling2D(2,2),\n",
        "    # Flatten the results to feed into a DNN\n",
        "    tf.keras.layers.Flatten(),\n",
        "    # 512 neuron hidden layer\n",
        "    tf.keras.layers.Dense(512, activation='relu'),\n",
        "    # Only 1 output neuron. It will contain a value from 0-1 where 0 for 1 class ('horses') and 1 for the other ('humans')\n",
        "    tf.keras.layers.Dense(1, activation='sigmoid')\n",
        "])"
      ],
      "execution_count": 3,
      "outputs": []
    },
    {
      "cell_type": "code",
      "metadata": {
        "colab": {
          "base_uri": "https://localhost:8080/"
        },
        "id": "8DHWhFP_uhq3",
        "outputId": "017c3b70-b02b-463b-c268-bb4a635da169"
      },
      "source": [
        "from tensorflow.keras.optimizers import RMSprop\n",
        "\n",
        "model.compile(loss='binary_crossentropy',\n",
        "              optimizer=RMSprop(lr=1e-4),\n",
        "              metrics=['accuracy'])"
      ],
      "execution_count": 4,
      "outputs": [
        {
          "output_type": "stream",
          "text": [
            "/usr/local/lib/python3.7/dist-packages/tensorflow/python/keras/optimizer_v2/optimizer_v2.py:375: UserWarning: The `lr` argument is deprecated, use `learning_rate` instead.\n",
            "  \"The `lr` argument is deprecated, use `learning_rate` instead.\")\n"
          ],
          "name": "stderr"
        }
      ]
    },
    {
      "cell_type": "code",
      "metadata": {
        "colab": {
          "base_uri": "https://localhost:8080/"
        },
        "id": "ClebU9NJg99G",
        "outputId": "441172d0-6f8a-4b4e-ee23-5a44300e1ac8"
      },
      "source": [
        "from tensorflow.keras.preprocessing.image import ImageDataGenerator\n",
        "\n",
        "# All images will be rescaled by 1./255\n",
        "train_datagen = ImageDataGenerator(\n",
        "      rescale=1./255,\n",
        "      rotation_range=40,\n",
        "      width_shift_range=0.2,\n",
        "      height_shift_range=0.2,\n",
        "      shear_range=0.2,\n",
        "      zoom_range=0.2,\n",
        "      horizontal_flip=True,\n",
        "      fill_mode='nearest')\n",
        "\n",
        "validation_datagen = ImageDataGenerator(rescale=1/255)\n",
        "\n",
        "# Flow training images in batches of 128 using train_datagen generator\n",
        "train_generator = train_datagen.flow_from_directory(\n",
        "        '/tmp/horse-or-human/',  # This is the source directory for training images\n",
        "        target_size=(300, 300),  # All images will be resized to 150x150\n",
        "        batch_size=128,\n",
        "        # Since we use binary_crossentropy loss, we need binary labels\n",
        "        class_mode='binary')\n",
        "\n",
        "# Flow training images in batches of 128 using train_datagen generator\n",
        "validation_generator = validation_datagen.flow_from_directory(\n",
        "        '/tmp/validation-horse-or-human/',  # This is the source directory for training images\n",
        "        target_size=(300, 300),  # All images will be resized to 150x150\n",
        "        batch_size=32,\n",
        "        # Since we use binary_crossentropy loss, we need binary labels\n",
        "        class_mode='binary')"
      ],
      "execution_count": 5,
      "outputs": [
        {
          "output_type": "stream",
          "text": [
            "Found 1027 images belonging to 2 classes.\n",
            "Found 256 images belonging to 2 classes.\n"
          ],
          "name": "stdout"
        }
      ]
    },
    {
      "cell_type": "code",
      "metadata": {
        "colab": {
          "base_uri": "https://localhost:8080/"
        },
        "id": "Fb1_lgobv81m",
        "outputId": "4190174d-73c5-481f-aef7-2499e5312af4"
      },
      "source": [
        "history = model.fit(\n",
        "      train_generator,\n",
        "      steps_per_epoch=8,  \n",
        "      epochs=100,\n",
        "      verbose=1,\n",
        "      validation_data = validation_generator,\n",
        "      validation_steps=8)"
      ],
      "execution_count": null,
      "outputs": [
        {
          "output_type": "stream",
          "text": [
            "Epoch 1/100\n",
            "8/8 [==============================] - 51s 3s/step - loss: 0.6918 - accuracy: 0.5517 - val_loss: 0.6817 - val_accuracy: 0.5000\n",
            "Epoch 2/100\n",
            "8/8 [==============================] - 21s 3s/step - loss: 0.6659 - accuracy: 0.6251 - val_loss: 0.6670 - val_accuracy: 0.5000\n",
            "Epoch 3/100\n",
            "8/8 [==============================] - 21s 3s/step - loss: 0.6466 - accuracy: 0.6485 - val_loss: 0.6748 - val_accuracy: 0.5039\n",
            "Epoch 4/100\n",
            "8/8 [==============================] - 20s 3s/step - loss: 0.6089 - accuracy: 0.7141 - val_loss: 0.6301 - val_accuracy: 0.8906\n",
            "Epoch 5/100\n",
            "8/8 [==============================] - 20s 2s/step - loss: 0.6151 - accuracy: 0.6852 - val_loss: 0.6486 - val_accuracy: 0.5391\n",
            "Epoch 6/100\n",
            "8/8 [==============================] - 20s 2s/step - loss: 0.5688 - accuracy: 0.7086 - val_loss: 0.6966 - val_accuracy: 0.5117\n",
            "Epoch 7/100\n",
            "8/8 [==============================] - 20s 2s/step - loss: 0.5611 - accuracy: 0.7063 - val_loss: 0.7662 - val_accuracy: 0.5000\n",
            "Epoch 8/100\n",
            "8/8 [==============================] - 20s 3s/step - loss: 0.5324 - accuracy: 0.7397 - val_loss: 0.6583 - val_accuracy: 0.5547\n",
            "Epoch 9/100\n",
            "8/8 [==============================] - 20s 2s/step - loss: 0.5283 - accuracy: 0.7230 - val_loss: 0.5742 - val_accuracy: 0.6445\n",
            "Epoch 10/100\n",
            "8/8 [==============================] - 19s 2s/step - loss: 0.5389 - accuracy: 0.7442 - val_loss: 0.6833 - val_accuracy: 0.5742\n",
            "Epoch 11/100\n",
            "8/8 [==============================] - 19s 2s/step - loss: 0.5338 - accuracy: 0.7497 - val_loss: 1.0048 - val_accuracy: 0.5117\n",
            "Epoch 12/100\n",
            "8/8 [==============================] - 20s 2s/step - loss: 0.4831 - accuracy: 0.7898 - val_loss: 0.4489 - val_accuracy: 0.9180\n",
            "Epoch 13/100\n",
            "8/8 [==============================] - 20s 2s/step - loss: 0.5215 - accuracy: 0.7686 - val_loss: 0.5733 - val_accuracy: 0.6602\n",
            "Epoch 14/100\n",
            "8/8 [==============================] - 20s 2s/step - loss: 0.4623 - accuracy: 0.8020 - val_loss: 0.5732 - val_accuracy: 0.6562\n",
            "Epoch 15/100\n",
            "8/8 [==============================] - 22s 3s/step - loss: 0.4663 - accuracy: 0.7832 - val_loss: 0.4989 - val_accuracy: 0.7344\n",
            "Epoch 16/100\n",
            "8/8 [==============================] - 20s 2s/step - loss: 0.4646 - accuracy: 0.7909 - val_loss: 1.0406 - val_accuracy: 0.5469\n",
            "Epoch 17/100\n",
            "8/8 [==============================] - 22s 3s/step - loss: 0.4481 - accuracy: 0.7910 - val_loss: 1.1277 - val_accuracy: 0.5430\n",
            "Epoch 18/100\n",
            "8/8 [==============================] - 20s 2s/step - loss: 0.4446 - accuracy: 0.7875 - val_loss: 1.1244 - val_accuracy: 0.5430\n",
            "Epoch 19/100\n",
            "8/8 [==============================] - 20s 2s/step - loss: 0.4004 - accuracy: 0.8165 - val_loss: 1.4689 - val_accuracy: 0.5273\n",
            "Epoch 20/100\n",
            "8/8 [==============================] - 20s 2s/step - loss: 0.4203 - accuracy: 0.8198 - val_loss: 1.2025 - val_accuracy: 0.5547\n",
            "Epoch 21/100\n",
            "8/8 [==============================] - 20s 2s/step - loss: 0.4028 - accuracy: 0.8142 - val_loss: 0.8305 - val_accuracy: 0.6406\n",
            "Epoch 22/100\n",
            "8/8 [==============================] - 20s 2s/step - loss: 0.3956 - accuracy: 0.8176 - val_loss: 1.5473 - val_accuracy: 0.5312\n",
            "Epoch 23/100\n",
            "8/8 [==============================] - 20s 2s/step - loss: 0.3809 - accuracy: 0.8376 - val_loss: 0.7550 - val_accuracy: 0.6758\n",
            "Epoch 24/100\n",
            "8/8 [==============================] - 19s 2s/step - loss: 0.3753 - accuracy: 0.8242 - val_loss: 1.4411 - val_accuracy: 0.5586\n",
            "Epoch 25/100\n",
            "8/8 [==============================] - 20s 2s/step - loss: 0.4316 - accuracy: 0.8020 - val_loss: 1.3597 - val_accuracy: 0.5508\n",
            "Epoch 26/100\n",
            "8/8 [==============================] - 19s 2s/step - loss: 0.3452 - accuracy: 0.8598 - val_loss: 1.0448 - val_accuracy: 0.5938\n",
            "Epoch 27/100\n",
            "8/8 [==============================] - 20s 2s/step - loss: 0.3504 - accuracy: 0.8409 - val_loss: 1.4720 - val_accuracy: 0.5586\n",
            "Epoch 28/100\n",
            "8/8 [==============================] - 20s 2s/step - loss: 0.3174 - accuracy: 0.8654 - val_loss: 0.6467 - val_accuracy: 0.7461\n",
            "Epoch 29/100\n",
            "8/8 [==============================] - 20s 2s/step - loss: 0.4202 - accuracy: 0.8031 - val_loss: 1.3114 - val_accuracy: 0.5820\n",
            "Epoch 30/100\n",
            "8/8 [==============================] - 20s 2s/step - loss: 0.3197 - accuracy: 0.8788 - val_loss: 1.7970 - val_accuracy: 0.5469\n",
            "Epoch 31/100\n",
            "8/8 [==============================] - 22s 3s/step - loss: 0.3428 - accuracy: 0.8438 - val_loss: 1.5755 - val_accuracy: 0.5625\n",
            "Epoch 32/100\n",
            "8/8 [==============================] - 22s 3s/step - loss: 0.3018 - accuracy: 0.8828 - val_loss: 0.7558 - val_accuracy: 0.7227\n",
            "Epoch 33/100\n",
            "8/8 [==============================] - 20s 2s/step - loss: 0.4112 - accuracy: 0.8076 - val_loss: 1.2112 - val_accuracy: 0.6172\n",
            "Epoch 34/100\n",
            "8/8 [==============================] - 22s 3s/step - loss: 0.2785 - accuracy: 0.8838 - val_loss: 2.1099 - val_accuracy: 0.5469\n",
            "Epoch 35/100\n",
            "8/8 [==============================] - 20s 2s/step - loss: 0.3741 - accuracy: 0.8343 - val_loss: 1.3924 - val_accuracy: 0.5703\n",
            "Epoch 36/100\n",
            "8/8 [==============================] - 20s 2s/step - loss: 0.2849 - accuracy: 0.8854 - val_loss: 2.5853 - val_accuracy: 0.5000\n",
            "Epoch 37/100\n",
            "8/8 [==============================] - 20s 2s/step - loss: 0.3928 - accuracy: 0.8176 - val_loss: 1.4187 - val_accuracy: 0.5625\n",
            "Epoch 38/100\n",
            "8/8 [==============================] - 19s 2s/step - loss: 0.2991 - accuracy: 0.8765 - val_loss: 1.0257 - val_accuracy: 0.6719\n",
            "Epoch 39/100\n",
            "8/8 [==============================] - 20s 2s/step - loss: 0.3137 - accuracy: 0.8576 - val_loss: 1.8564 - val_accuracy: 0.5586\n",
            "Epoch 40/100\n",
            "8/8 [==============================] - 20s 2s/step - loss: 0.2623 - accuracy: 0.8910 - val_loss: 2.5763 - val_accuracy: 0.5352\n",
            "Epoch 41/100\n",
            "8/8 [==============================] - 20s 2s/step - loss: 0.3110 - accuracy: 0.8621 - val_loss: 1.9719 - val_accuracy: 0.5586\n",
            "Epoch 42/100\n",
            "8/8 [==============================] - 20s 2s/step - loss: 0.2902 - accuracy: 0.8799 - val_loss: 1.1945 - val_accuracy: 0.6602\n",
            "Epoch 43/100\n",
            "8/8 [==============================] - 20s 2s/step - loss: 0.2458 - accuracy: 0.9032 - val_loss: 3.3119 - val_accuracy: 0.5000\n",
            "Epoch 44/100\n",
            "8/8 [==============================] - 20s 2s/step - loss: 0.3528 - accuracy: 0.8498 - val_loss: 1.9761 - val_accuracy: 0.5664\n",
            "Epoch 45/100\n",
            "8/8 [==============================] - 20s 2s/step - loss: 0.2367 - accuracy: 0.8954 - val_loss: 2.1119 - val_accuracy: 0.5586\n",
            "Epoch 46/100\n",
            "8/8 [==============================] - 19s 3s/step - loss: 0.3908 - accuracy: 0.8454 - val_loss: 1.7408 - val_accuracy: 0.5859\n",
            "Epoch 47/100\n",
            "8/8 [==============================] - 20s 2s/step - loss: 0.2577 - accuracy: 0.8832 - val_loss: 1.8303 - val_accuracy: 0.5781\n",
            "Epoch 48/100\n",
            "8/8 [==============================] - 20s 2s/step - loss: 0.2858 - accuracy: 0.8776 - val_loss: 2.3047 - val_accuracy: 0.5508\n",
            "Epoch 49/100\n",
            "8/8 [==============================] - 20s 2s/step - loss: 0.2592 - accuracy: 0.8932 - val_loss: 1.6931 - val_accuracy: 0.6055\n",
            "Epoch 50/100\n",
            "8/8 [==============================] - 20s 2s/step - loss: 0.2411 - accuracy: 0.9099 - val_loss: 2.4642 - val_accuracy: 0.5508\n",
            "Epoch 51/100\n",
            "8/8 [==============================] - 20s 2s/step - loss: 0.2652 - accuracy: 0.8821 - val_loss: 2.5865 - val_accuracy: 0.5352\n",
            "Epoch 52/100\n",
            "8/8 [==============================] - 19s 2s/step - loss: 0.2402 - accuracy: 0.8999 - val_loss: 1.2697 - val_accuracy: 0.6602\n",
            "Epoch 53/100\n",
            "8/8 [==============================] - 20s 3s/step - loss: 0.2458 - accuracy: 0.8943 - val_loss: 1.9592 - val_accuracy: 0.5703\n",
            "Epoch 54/100\n",
            "8/8 [==============================] - 20s 3s/step - loss: 0.2630 - accuracy: 0.8977 - val_loss: 2.1686 - val_accuracy: 0.5547\n",
            "Epoch 55/100\n",
            "8/8 [==============================] - 20s 3s/step - loss: 0.2739 - accuracy: 0.8810 - val_loss: 2.7627 - val_accuracy: 0.5156\n",
            "Epoch 56/100\n",
            "8/8 [==============================] - 20s 2s/step - loss: 0.2358 - accuracy: 0.9010 - val_loss: 3.4120 - val_accuracy: 0.5156\n",
            "Epoch 57/100\n",
            "8/8 [==============================] - 20s 3s/step - loss: 0.2658 - accuracy: 0.8910 - val_loss: 2.2279 - val_accuracy: 0.5586\n",
            "Epoch 58/100\n",
            "8/8 [==============================] - 22s 3s/step - loss: 0.2479 - accuracy: 0.8926 - val_loss: 2.3536 - val_accuracy: 0.5508\n",
            "Epoch 59/100\n",
            "8/8 [==============================] - 22s 3s/step - loss: 0.1915 - accuracy: 0.9297 - val_loss: 1.9079 - val_accuracy: 0.6094\n",
            "Epoch 60/100\n",
            "8/8 [==============================] - 20s 2s/step - loss: 0.2611 - accuracy: 0.8776 - val_loss: 2.1576 - val_accuracy: 0.5625\n",
            "Epoch 61/100\n",
            "8/8 [==============================] - 20s 2s/step - loss: 0.1924 - accuracy: 0.9244 - val_loss: 1.9382 - val_accuracy: 0.6094\n",
            "Epoch 62/100\n",
            "8/8 [==============================] - 20s 2s/step - loss: 0.2776 - accuracy: 0.8743 - val_loss: 2.4616 - val_accuracy: 0.5508\n",
            "Epoch 63/100\n",
            "8/8 [==============================] - 20s 2s/step - loss: 0.2225 - accuracy: 0.9110 - val_loss: 2.3373 - val_accuracy: 0.5625\n",
            "Epoch 64/100\n",
            "8/8 [==============================] - 20s 2s/step - loss: 0.2753 - accuracy: 0.8966 - val_loss: 2.2799 - val_accuracy: 0.5547\n",
            "Epoch 65/100\n",
            "8/8 [==============================] - 20s 2s/step - loss: 0.1830 - accuracy: 0.9288 - val_loss: 2.6033 - val_accuracy: 0.5547\n",
            "Epoch 66/100\n",
            "8/8 [==============================] - 20s 2s/step - loss: 0.2313 - accuracy: 0.9010 - val_loss: 1.1109 - val_accuracy: 0.7070\n",
            "Epoch 67/100\n",
            "8/8 [==============================] - 19s 3s/step - loss: 0.2193 - accuracy: 0.9099 - val_loss: 2.2212 - val_accuracy: 0.5781\n",
            "Epoch 68/100\n",
            "8/8 [==============================] - 20s 2s/step - loss: 0.1872 - accuracy: 0.9244 - val_loss: 1.6399 - val_accuracy: 0.6641\n",
            "Epoch 69/100\n",
            "8/8 [==============================] - 20s 2s/step - loss: 0.2222 - accuracy: 0.9132 - val_loss: 2.1251 - val_accuracy: 0.6094\n",
            "Epoch 70/100\n",
            "8/8 [==============================] - 20s 2s/step - loss: 0.2479 - accuracy: 0.8988 - val_loss: 2.8843 - val_accuracy: 0.5508\n",
            "Epoch 71/100\n",
            "8/8 [==============================] - 22s 3s/step - loss: 0.2234 - accuracy: 0.9102 - val_loss: 2.3312 - val_accuracy: 0.5781\n",
            "Epoch 72/100\n",
            "8/8 [==============================] - 20s 2s/step - loss: 0.1918 - accuracy: 0.9199 - val_loss: 2.1587 - val_accuracy: 0.6055\n",
            "Epoch 73/100\n",
            "8/8 [==============================] - 19s 2s/step - loss: 0.1731 - accuracy: 0.9399 - val_loss: 2.4412 - val_accuracy: 0.5898\n",
            "Epoch 74/100\n",
            "8/8 [==============================] - 22s 3s/step - loss: 0.1986 - accuracy: 0.9248 - val_loss: 3.0528 - val_accuracy: 0.5430\n",
            "Epoch 75/100\n",
            "8/8 [==============================] - 19s 2s/step - loss: 0.2286 - accuracy: 0.9043 - val_loss: 2.4014 - val_accuracy: 0.5469\n",
            "Epoch 76/100\n",
            "8/8 [==============================] - 20s 2s/step - loss: 0.2207 - accuracy: 0.9066 - val_loss: 2.9245 - val_accuracy: 0.5273\n",
            "Epoch 77/100\n",
            "8/8 [==============================] - 20s 2s/step - loss: 0.2759 - accuracy: 0.8899 - val_loss: 2.2455 - val_accuracy: 0.5547\n",
            "Epoch 78/100\n",
            "8/8 [==============================] - 19s 2s/step - loss: 0.1622 - accuracy: 0.9399 - val_loss: 2.4773 - val_accuracy: 0.5703\n",
            "Epoch 79/100\n",
            "8/8 [==============================] - 21s 3s/step - loss: 0.1651 - accuracy: 0.9316 - val_loss: 1.6248 - val_accuracy: 0.6641\n",
            "Epoch 80/100\n",
            "8/8 [==============================] - 19s 3s/step - loss: 0.1649 - accuracy: 0.9444 - val_loss: 2.5035 - val_accuracy: 0.5859\n",
            "Epoch 81/100\n",
            "8/8 [==============================] - 19s 2s/step - loss: 0.1992 - accuracy: 0.9277 - val_loss: 4.1105 - val_accuracy: 0.5117\n",
            "Epoch 82/100\n",
            "8/8 [==============================] - 22s 3s/step - loss: 0.1742 - accuracy: 0.9307 - val_loss: 2.2022 - val_accuracy: 0.6133\n",
            "Epoch 83/100\n",
            "8/8 [==============================] - 21s 3s/step - loss: 0.1726 - accuracy: 0.9307 - val_loss: 2.8751 - val_accuracy: 0.5625\n",
            "Epoch 84/100\n",
            "8/8 [==============================] - 20s 2s/step - loss: 0.1921 - accuracy: 0.9299 - val_loss: 2.3326 - val_accuracy: 0.5898\n",
            "Epoch 85/100\n",
            "8/8 [==============================] - 20s 2s/step - loss: 0.1403 - accuracy: 0.9511 - val_loss: 2.7157 - val_accuracy: 0.5898\n",
            "Epoch 86/100\n",
            "8/8 [==============================] - 20s 2s/step - loss: 0.2672 - accuracy: 0.8788 - val_loss: 2.6752 - val_accuracy: 0.5703\n",
            "Epoch 87/100\n",
            "8/8 [==============================] - 19s 3s/step - loss: 0.1403 - accuracy: 0.9555 - val_loss: 3.2857 - val_accuracy: 0.5391\n",
            "Epoch 88/100\n",
            "8/8 [==============================] - 20s 2s/step - loss: 0.2835 - accuracy: 0.8988 - val_loss: 2.4877 - val_accuracy: 0.5859\n",
            "Epoch 89/100\n",
            "8/8 [==============================] - 20s 2s/step - loss: 0.1392 - accuracy: 0.9544 - val_loss: 2.8555 - val_accuracy: 0.5742\n",
            "Epoch 90/100\n",
            "8/8 [==============================] - 20s 2s/step - loss: 0.1688 - accuracy: 0.9288 - val_loss: 2.1762 - val_accuracy: 0.6016\n",
            "Epoch 91/100\n",
            "8/8 [==============================] - 20s 2s/step - loss: 0.1281 - accuracy: 0.9577 - val_loss: 2.5027 - val_accuracy: 0.5938\n",
            "Epoch 92/100\n",
            "8/8 [==============================] - 20s 2s/step - loss: 0.1980 - accuracy: 0.9232 - val_loss: 3.2068 - val_accuracy: 0.5508\n",
            "Epoch 93/100\n",
            "2/8 [======>.......................] - ETA: 15s - loss: 0.1508 - accuracy: 0.9160"
          ],
          "name": "stdout"
        }
      ]
    },
    {
      "cell_type": "code",
      "metadata": {
        "colab": {
          "base_uri": "https://localhost:8080/",
          "height": 229
        },
        "id": "7zNPRWOVJdOH",
        "outputId": "66880f14-bbc5-426c-ce52-afffe5ad7b0b"
      },
      "source": [
        "import matplotlib.pyplot as plt\n",
        "acc = history.history['accuracy']\n",
        "val_acc = history.history['val_accuracy']\n",
        "loss = history.history['loss']\n",
        "val_loss = history.history['val_loss']\n",
        "\n",
        "epochs = range(len(acc))\n",
        "\n",
        "plt.plot(epochs, acc, 'r', label='Training accuracy')\n",
        "plt.plot(epochs, val_acc, 'b', label='Validation accuracy')\n",
        "plt.title('Training and validation accuracy')\n",
        "\n",
        "plt.figure()\n",
        "\n",
        "plt.plot(epochs, loss, 'r', label='Training Loss')\n",
        "plt.plot(epochs, val_loss, 'b', label='Validation Loss')\n",
        "plt.title('Training and validation loss')\n",
        "plt.legend()\n",
        "\n",
        "plt.show()"
      ],
      "execution_count": 1,
      "outputs": [
        {
          "output_type": "error",
          "ename": "NameError",
          "evalue": "ignored",
          "traceback": [
            "\u001b[0;31m---------------------------------------------------------------------------\u001b[0m",
            "\u001b[0;31mNameError\u001b[0m                                 Traceback (most recent call last)",
            "\u001b[0;32m<ipython-input-1-c2178ef7bb38>\u001b[0m in \u001b[0;36m<module>\u001b[0;34m()\u001b[0m\n\u001b[1;32m      1\u001b[0m \u001b[0;32mimport\u001b[0m \u001b[0mmatplotlib\u001b[0m\u001b[0;34m.\u001b[0m\u001b[0mpyplot\u001b[0m \u001b[0;32mas\u001b[0m \u001b[0mplt\u001b[0m\u001b[0;34m\u001b[0m\u001b[0;34m\u001b[0m\u001b[0m\n\u001b[0;32m----> 2\u001b[0;31m \u001b[0macc\u001b[0m \u001b[0;34m=\u001b[0m \u001b[0mhistory\u001b[0m\u001b[0;34m.\u001b[0m\u001b[0mhistory\u001b[0m\u001b[0;34m[\u001b[0m\u001b[0;34m'accuracy'\u001b[0m\u001b[0;34m]\u001b[0m\u001b[0;34m\u001b[0m\u001b[0;34m\u001b[0m\u001b[0m\n\u001b[0m\u001b[1;32m      3\u001b[0m \u001b[0mval_acc\u001b[0m \u001b[0;34m=\u001b[0m \u001b[0mhistory\u001b[0m\u001b[0;34m.\u001b[0m\u001b[0mhistory\u001b[0m\u001b[0;34m[\u001b[0m\u001b[0;34m'val_accuracy'\u001b[0m\u001b[0;34m]\u001b[0m\u001b[0;34m\u001b[0m\u001b[0;34m\u001b[0m\u001b[0m\n\u001b[1;32m      4\u001b[0m \u001b[0mloss\u001b[0m \u001b[0;34m=\u001b[0m \u001b[0mhistory\u001b[0m\u001b[0;34m.\u001b[0m\u001b[0mhistory\u001b[0m\u001b[0;34m[\u001b[0m\u001b[0;34m'loss'\u001b[0m\u001b[0;34m]\u001b[0m\u001b[0;34m\u001b[0m\u001b[0;34m\u001b[0m\u001b[0m\n\u001b[1;32m      5\u001b[0m \u001b[0mval_loss\u001b[0m \u001b[0;34m=\u001b[0m \u001b[0mhistory\u001b[0m\u001b[0;34m.\u001b[0m\u001b[0mhistory\u001b[0m\u001b[0;34m[\u001b[0m\u001b[0;34m'val_loss'\u001b[0m\u001b[0;34m]\u001b[0m\u001b[0;34m\u001b[0m\u001b[0;34m\u001b[0m\u001b[0m\n",
            "\u001b[0;31mNameError\u001b[0m: name 'history' is not defined"
          ]
        }
      ]
    }
  ]
}